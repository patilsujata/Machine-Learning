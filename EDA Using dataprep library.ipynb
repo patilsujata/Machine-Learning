{
 "cells": [
  {
   "cell_type": "code",
   "execution_count": null,
   "id": "e111fd01",
   "metadata": {},
   "outputs": [],
   "source": [
    "## Google colab : https://colab.research.google.com/drive/1oXlDLn46ak5wlswXMg0GDn4V7k4UYPkK?usp=sharing#scrollTo=NbQyr-aHQ7Eh"
   ]
  },
  {
   "cell_type": "code",
   "execution_count": null,
   "id": "4753323a",
   "metadata": {},
   "outputs": [],
   "source": [
    "#!pip install dataprep"
   ]
  },
  {
   "cell_type": "code",
   "execution_count": null,
   "id": "d54fb910",
   "metadata": {},
   "outputs": [],
   "source": [
    "from dataprep.datasets import load_dataset\n",
    "from dataprep.eda import create_report\n",
    "df = load_dataset(\"titanic\")\n",
    "create_report(df)"
   ]
  },
  {
   "cell_type": "code",
   "execution_count": null,
   "id": "d286e130",
   "metadata": {},
   "outputs": [],
   "source": []
  }
 ],
 "metadata": {
  "kernelspec": {
   "display_name": "Python 3",
   "language": "python",
   "name": "python3"
  },
  "language_info": {
   "codemirror_mode": {
    "name": "ipython",
    "version": 3
   },
   "file_extension": ".py",
   "mimetype": "text/x-python",
   "name": "python",
   "nbconvert_exporter": "python",
   "pygments_lexer": "ipython3",
   "version": "3.8.8"
  }
 },
 "nbformat": 4,
 "nbformat_minor": 5
}
