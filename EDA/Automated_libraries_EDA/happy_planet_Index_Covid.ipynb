{
 "cells": [
  {
   "cell_type": "markdown",
   "metadata": {},
   "source": [
    "In this demo, we will be exploring how world developmental indicators are related to a country’s early effort in COVID-19 response. "
   ]
  },
  {
   "cell_type": "markdown",
   "metadata": {},
   "source": [
    "<div>\n",
    "    <img align=\"left\" src=\"https://github.com/lux-org/lux-resources/blob/master/icon/table.png?raw=True\" width=\"30\">\n",
    "    <h1 style=\"padding-left: 40px;\">Visualizations of dataframes beyond simple tables</h1>\n",
    "</div>"
   ]
  },
  {
   "cell_type": "markdown",
   "metadata": {},
   "source": [
    "To enable Lux, simply add `import lux` along with your Pandas import statement."
   ]
  },
  {
   "cell_type": "code",
   "execution_count": 2,
   "metadata": {
    "tags": []
   },
   "outputs": [
    {
     "name": "stdout",
     "output_type": "stream",
     "text": [
      "Collecting lux\n",
      "  Using cached lux-0.5.1.tar.gz (14 kB)\n",
      "Collecting lux-api\n",
      "  Using cached lux-api-0.5.1.tar.gz (127 kB)\n",
      "  Installing build dependencies: started\n",
      "Note: you may need to restart the kernel to use updated packages.\n"
     ]
    },
    {
     "name": "stderr",
     "output_type": "stream",
     "text": [
      "ERROR: pip's dependency resolver does not currently take into account all the packages that are installed. This behaviour is the source of the following dependency conflicts.\n",
      "spyder 5.1.5 requires pyqt5<5.13, which is not installed.\n",
      "spyder 5.1.5 requires pyqtwebengine<5.13, which is not installed.\n",
      "flake8 3.9.2 requires pycodestyle<2.8.0,>=2.7.0, but you have pycodestyle 2.8.0 which is incompatible.\n"
     ]
    },
    {
     "name": "stdout",
     "output_type": "stream",
     "text": [
      "  Installing build dependencies: finished with status 'done'\n",
      "  Getting requirements to build wheel: started\n",
      "  Getting requirements to build wheel: finished with status 'done'\n",
      "    Preparing wheel metadata: started\n",
      "    Preparing wheel metadata: finished with status 'done'\n",
      "Collecting lux-widget\n",
      "  Using cached lux-widget-0.1.11.tar.gz (2.5 MB)\n",
      "Collecting iso3166\n",
      "  Using cached iso3166-2.0.2-py3-none-any.whl (8.5 kB)\n",
      "Requirement already satisfied: autopep8>=1.5 in c:\\users\\admin\\anaconda3\\lib\\site-packages (from lux-api->lux) (1.6.0)\n",
      "Requirement already satisfied: scipy>=1.3.3 in c:\\users\\admin\\anaconda3\\lib\\site-packages (from lux-api->lux) (1.7.3)\n",
      "Requirement already satisfied: numpy>=1.16.5 in c:\\users\\admin\\anaconda3\\lib\\site-packages (from lux-api->lux) (1.21.5)\n",
      "Requirement already satisfied: scikit-learn>=0.22 in c:\\users\\admin\\anaconda3\\lib\\site-packages (from lux-api->lux) (1.0.2)\n",
      "Collecting sh\n",
      "  Using cached sh-1.14.2-py2.py3-none-any.whl (40 kB)\n",
      "Collecting psutil>=5.9.0\n",
      "  Downloading psutil-5.9.1-cp39-cp39-win_amd64.whl (245 kB)\n",
      "Collecting altair>=4.0.0\n",
      "  Using cached altair-4.2.0-py3-none-any.whl (812 kB)\n",
      "Requirement already satisfied: matplotlib>=3.0.0 in c:\\users\\admin\\anaconda3\\lib\\site-packages (from lux-api->lux) (3.5.1)\n",
      "Requirement already satisfied: pandas in c:\\users\\admin\\anaconda3\\lib\\site-packages (from lux-api->lux) (1.4.2)\n",
      "Requirement already satisfied: jsonschema>=3.0 in c:\\users\\admin\\anaconda3\\lib\\site-packages (from altair>=4.0.0->lux-api->lux) (4.4.0)\n",
      "Requirement already satisfied: entrypoints in c:\\users\\admin\\anaconda3\\lib\\site-packages (from altair>=4.0.0->lux-api->lux) (0.4)\n",
      "Requirement already satisfied: toolz in c:\\users\\admin\\anaconda3\\lib\\site-packages (from altair>=4.0.0->lux-api->lux) (0.11.2)\n",
      "Requirement already satisfied: jinja2 in c:\\users\\admin\\anaconda3\\lib\\site-packages (from altair>=4.0.0->lux-api->lux) (2.11.3)\n",
      "Requirement already satisfied: toml in c:\\users\\admin\\anaconda3\\lib\\site-packages (from autopep8>=1.5->lux-api->lux) (0.10.2)\n",
      "Collecting pycodestyle>=2.8.0\n",
      "  Using cached pycodestyle-2.8.0-py2.py3-none-any.whl (42 kB)\n",
      "Requirement already satisfied: pyrsistent!=0.17.0,!=0.17.1,!=0.17.2,>=0.14.0 in c:\\users\\admin\\anaconda3\\lib\\site-packages (from jsonschema>=3.0->altair>=4.0.0->lux-api->lux) (0.18.0)\n",
      "Requirement already satisfied: attrs>=17.4.0 in c:\\users\\admin\\anaconda3\\lib\\site-packages (from jsonschema>=3.0->altair>=4.0.0->lux-api->lux) (21.4.0)\n",
      "Requirement already satisfied: notebook>=4.0.0 in c:\\users\\admin\\anaconda3\\lib\\site-packages (from lux-widget->lux) (6.4.8)\n",
      "Requirement already satisfied: ipywidgets>=7.5.0 in c:\\users\\admin\\anaconda3\\lib\\site-packages (from lux-widget->lux) (7.6.5)\n",
      "Requirement already satisfied: ipython-genutils~=0.2.0 in c:\\users\\admin\\anaconda3\\lib\\site-packages (from ipywidgets>=7.5.0->lux-widget->lux) (0.2.0)\n",
      "Requirement already satisfied: ipykernel>=4.5.1 in c:\\users\\admin\\anaconda3\\lib\\site-packages (from ipywidgets>=7.5.0->lux-widget->lux) (6.9.1)\n",
      "Requirement already satisfied: ipython>=4.0.0 in c:\\users\\admin\\anaconda3\\lib\\site-packages (from ipywidgets>=7.5.0->lux-widget->lux) (8.2.0)\n",
      "Requirement already satisfied: nbformat>=4.2.0 in c:\\users\\admin\\anaconda3\\lib\\site-packages (from ipywidgets>=7.5.0->lux-widget->lux) (5.3.0)\n",
      "Requirement already satisfied: jupyterlab-widgets>=1.0.0 in c:\\users\\admin\\anaconda3\\lib\\site-packages (from ipywidgets>=7.5.0->lux-widget->lux) (1.0.0)\n",
      "Requirement already satisfied: traitlets>=4.3.1 in c:\\users\\admin\\anaconda3\\lib\\site-packages (from ipywidgets>=7.5.0->lux-widget->lux) (5.1.1)\n",
      "Requirement already satisfied: widgetsnbextension~=3.5.0 in c:\\users\\admin\\anaconda3\\lib\\site-packages (from ipywidgets>=7.5.0->lux-widget->lux) (3.5.2)\n",
      "Requirement already satisfied: jupyter-client<8.0 in c:\\users\\admin\\anaconda3\\lib\\site-packages (from ipykernel>=4.5.1->ipywidgets>=7.5.0->lux-widget->lux) (6.1.12)\n",
      "Requirement already satisfied: debugpy<2.0,>=1.0.0 in c:\\users\\admin\\anaconda3\\lib\\site-packages (from ipykernel>=4.5.1->ipywidgets>=7.5.0->lux-widget->lux) (1.5.1)\n",
      "Requirement already satisfied: tornado<7.0,>=4.2 in c:\\users\\admin\\anaconda3\\lib\\site-packages (from ipykernel>=4.5.1->ipywidgets>=7.5.0->lux-widget->lux) (6.1)\n",
      "Requirement already satisfied: matplotlib-inline<0.2.0,>=0.1.0 in c:\\users\\admin\\anaconda3\\lib\\site-packages (from ipykernel>=4.5.1->ipywidgets>=7.5.0->lux-widget->lux) (0.1.2)\n",
      "Requirement already satisfied: nest-asyncio in c:\\users\\admin\\anaconda3\\lib\\site-packages (from ipykernel>=4.5.1->ipywidgets>=7.5.0->lux-widget->lux) (1.5.5)\n",
      "Requirement already satisfied: prompt-toolkit!=3.0.0,!=3.0.1,<3.1.0,>=2.0.0 in c:\\users\\admin\\anaconda3\\lib\\site-packages (from ipython>=4.0.0->ipywidgets>=7.5.0->lux-widget->lux) (3.0.20)\n",
      "Requirement already satisfied: colorama in c:\\users\\admin\\anaconda3\\lib\\site-packages (from ipython>=4.0.0->ipywidgets>=7.5.0->lux-widget->lux) (0.4.4)\n",
      "Requirement already satisfied: pickleshare in c:\\users\\admin\\anaconda3\\lib\\site-packages (from ipython>=4.0.0->ipywidgets>=7.5.0->lux-widget->lux) (0.7.5)\n",
      "Requirement already satisfied: stack-data in c:\\users\\admin\\anaconda3\\lib\\site-packages (from ipython>=4.0.0->ipywidgets>=7.5.0->lux-widget->lux) (0.2.0)\n",
      "Requirement already satisfied: jedi>=0.16 in c:\\users\\admin\\anaconda3\\lib\\site-packages (from ipython>=4.0.0->ipywidgets>=7.5.0->lux-widget->lux) (0.18.1)\n",
      "Requirement already satisfied: setuptools>=18.5 in c:\\users\\admin\\anaconda3\\lib\\site-packages (from ipython>=4.0.0->ipywidgets>=7.5.0->lux-widget->lux) (60.10.0)\n",
      "Requirement already satisfied: pygments>=2.4.0 in c:\\users\\admin\\anaconda3\\lib\\site-packages (from ipython>=4.0.0->ipywidgets>=7.5.0->lux-widget->lux) (2.11.2)\n",
      "Requirement already satisfied: backcall in c:\\users\\admin\\anaconda3\\lib\\site-packages (from ipython>=4.0.0->ipywidgets>=7.5.0->lux-widget->lux) (0.2.0)\n",
      "Requirement already satisfied: decorator in c:\\users\\admin\\anaconda3\\lib\\site-packages (from ipython>=4.0.0->ipywidgets>=7.5.0->lux-widget->lux) (5.1.1)\n",
      "Requirement already satisfied: parso<0.9.0,>=0.8.0 in c:\\users\\admin\\anaconda3\\lib\\site-packages (from jedi>=0.16->ipython>=4.0.0->ipywidgets>=7.5.0->lux-widget->lux) (0.8.3)\n",
      "Requirement already satisfied: pyzmq>=13 in c:\\users\\admin\\anaconda3\\lib\\site-packages (from jupyter-client<8.0->ipykernel>=4.5.1->ipywidgets>=7.5.0->lux-widget->lux) (22.3.0)\n",
      "Requirement already satisfied: jupyter-core>=4.6.0 in c:\\users\\admin\\anaconda3\\lib\\site-packages (from jupyter-client<8.0->ipykernel>=4.5.1->ipywidgets>=7.5.0->lux-widget->lux) (4.9.2)\n",
      "Requirement already satisfied: python-dateutil>=2.1 in c:\\users\\admin\\anaconda3\\lib\\site-packages (from jupyter-client<8.0->ipykernel>=4.5.1->ipywidgets>=7.5.0->lux-widget->lux) (2.8.2)\n",
      "Requirement already satisfied: pywin32>=1.0 in c:\\users\\admin\\anaconda3\\lib\\site-packages (from jupyter-core>=4.6.0->jupyter-client<8.0->ipykernel>=4.5.1->ipywidgets>=7.5.0->lux-widget->lux) (302)\n",
      "Requirement already satisfied: fonttools>=4.22.0 in c:\\users\\admin\\anaconda3\\lib\\site-packages (from matplotlib>=3.0.0->lux-api->lux) (4.25.0)\n",
      "Requirement already satisfied: cycler>=0.10 in c:\\users\\admin\\anaconda3\\lib\\site-packages (from matplotlib>=3.0.0->lux-api->lux) (0.11.0)\n",
      "Requirement already satisfied: kiwisolver>=1.0.1 in c:\\users\\admin\\anaconda3\\lib\\site-packages (from matplotlib>=3.0.0->lux-api->lux) (1.3.2)\n",
      "Requirement already satisfied: pyparsing>=2.2.1 in c:\\users\\admin\\anaconda3\\lib\\site-packages (from matplotlib>=3.0.0->lux-api->lux) (3.0.4)\n",
      "Requirement already satisfied: packaging>=20.0 in c:\\users\\admin\\anaconda3\\lib\\site-packages (from matplotlib>=3.0.0->lux-api->lux) (21.3)\n",
      "Requirement already satisfied: pillow>=6.2.0 in c:\\users\\admin\\anaconda3\\lib\\site-packages (from matplotlib>=3.0.0->lux-api->lux) (9.0.1)\n",
      "Requirement already satisfied: fastjsonschema in c:\\users\\admin\\anaconda3\\lib\\site-packages (from nbformat>=4.2.0->ipywidgets>=7.5.0->lux-widget->lux) (2.15.1)\n",
      "Requirement already satisfied: Send2Trash>=1.8.0 in c:\\users\\admin\\anaconda3\\lib\\site-packages (from notebook>=4.0.0->lux-widget->lux) (1.8.0)\n",
      "Requirement already satisfied: argon2-cffi in c:\\users\\admin\\anaconda3\\lib\\site-packages (from notebook>=4.0.0->lux-widget->lux) (21.3.0)\n",
      "Requirement already satisfied: nbconvert in c:\\users\\admin\\anaconda3\\lib\\site-packages (from notebook>=4.0.0->lux-widget->lux) (6.4.4)\n",
      "Requirement already satisfied: prometheus-client in c:\\users\\admin\\anaconda3\\lib\\site-packages (from notebook>=4.0.0->lux-widget->lux) (0.13.1)\n",
      "Requirement already satisfied: terminado>=0.8.3 in c:\\users\\admin\\anaconda3\\lib\\site-packages (from notebook>=4.0.0->lux-widget->lux) (0.13.1)\n",
      "Requirement already satisfied: pytz>=2020.1 in c:\\users\\admin\\anaconda3\\lib\\site-packages (from pandas->lux-api->lux) (2021.3)\n",
      "Requirement already satisfied: wcwidth in c:\\users\\admin\\anaconda3\\lib\\site-packages (from prompt-toolkit!=3.0.0,!=3.0.1,<3.1.0,>=2.0.0->ipython>=4.0.0->ipywidgets>=7.5.0->lux-widget->lux) (0.2.5)\n",
      "Requirement already satisfied: six>=1.5 in c:\\users\\admin\\anaconda3\\lib\\site-packages (from python-dateutil>=2.1->jupyter-client<8.0->ipykernel>=4.5.1->ipywidgets>=7.5.0->lux-widget->lux) (1.16.0)\n",
      "Requirement already satisfied: joblib>=0.11 in c:\\users\\admin\\anaconda3\\lib\\site-packages (from scikit-learn>=0.22->lux-api->lux) (1.1.0)\n",
      "Requirement already satisfied: threadpoolctl>=2.0.0 in c:\\users\\admin\\anaconda3\\lib\\site-packages (from scikit-learn>=0.22->lux-api->lux) (2.2.0)\n",
      "Requirement already satisfied: pywinpty>=1.1.0 in c:\\users\\admin\\anaconda3\\lib\\site-packages (from terminado>=0.8.3->notebook>=4.0.0->lux-widget->lux) (2.0.2)\n",
      "Requirement already satisfied: argon2-cffi-bindings in c:\\users\\admin\\anaconda3\\lib\\site-packages (from argon2-cffi->notebook>=4.0.0->lux-widget->lux) (21.2.0)\n",
      "Requirement already satisfied: cffi>=1.0.1 in c:\\users\\admin\\anaconda3\\lib\\site-packages (from argon2-cffi-bindings->argon2-cffi->notebook>=4.0.0->lux-widget->lux) (1.15.0)\n",
      "Requirement already satisfied: pycparser in c:\\users\\admin\\anaconda3\\lib\\site-packages (from cffi>=1.0.1->argon2-cffi-bindings->argon2-cffi->notebook>=4.0.0->lux-widget->lux) (2.21)\n",
      "Requirement already satisfied: MarkupSafe>=0.23 in c:\\users\\admin\\anaconda3\\lib\\site-packages (from jinja2->altair>=4.0.0->lux-api->lux) (2.0.1)\n",
      "Requirement already satisfied: jupyterlab-pygments in c:\\users\\admin\\anaconda3\\lib\\site-packages (from nbconvert->notebook>=4.0.0->lux-widget->lux) (0.1.2)\n",
      "Requirement already satisfied: testpath in c:\\users\\admin\\anaconda3\\lib\\site-packages (from nbconvert->notebook>=4.0.0->lux-widget->lux) (0.5.0)\n",
      "Requirement already satisfied: nbclient<0.6.0,>=0.5.0 in c:\\users\\admin\\anaconda3\\lib\\site-packages (from nbconvert->notebook>=4.0.0->lux-widget->lux) (0.5.13)\n",
      "Requirement already satisfied: mistune<2,>=0.8.1 in c:\\users\\admin\\anaconda3\\lib\\site-packages (from nbconvert->notebook>=4.0.0->lux-widget->lux) (0.8.4)\n",
      "Requirement already satisfied: defusedxml in c:\\users\\admin\\anaconda3\\lib\\site-packages (from nbconvert->notebook>=4.0.0->lux-widget->lux) (0.7.1)\n",
      "Requirement already satisfied: bleach in c:\\users\\admin\\anaconda3\\lib\\site-packages (from nbconvert->notebook>=4.0.0->lux-widget->lux) (4.1.0)\n",
      "Requirement already satisfied: pandocfilters>=1.4.1 in c:\\users\\admin\\anaconda3\\lib\\site-packages (from nbconvert->notebook>=4.0.0->lux-widget->lux) (1.5.0)\n",
      "Requirement already satisfied: beautifulsoup4 in c:\\users\\admin\\anaconda3\\lib\\site-packages (from nbconvert->notebook>=4.0.0->lux-widget->lux) (4.11.1)\n",
      "Requirement already satisfied: soupsieve>1.2 in c:\\users\\admin\\anaconda3\\lib\\site-packages (from beautifulsoup4->nbconvert->notebook>=4.0.0->lux-widget->lux) (2.3.1)\n",
      "Requirement already satisfied: webencodings in c:\\users\\admin\\anaconda3\\lib\\site-packages (from bleach->nbconvert->notebook>=4.0.0->lux-widget->lux) (0.5.1)\n",
      "Requirement already satisfied: executing in c:\\users\\admin\\anaconda3\\lib\\site-packages (from stack-data->ipython>=4.0.0->ipywidgets>=7.5.0->lux-widget->lux) (0.8.3)\n"
     ]
    },
    {
     "name": "stdout",
     "output_type": "stream",
     "text": [
      "Requirement already satisfied: asttokens in c:\\users\\admin\\anaconda3\\lib\\site-packages (from stack-data->ipython>=4.0.0->ipywidgets>=7.5.0->lux-widget->lux) (2.0.5)\n",
      "Requirement already satisfied: pure-eval in c:\\users\\admin\\anaconda3\\lib\\site-packages (from stack-data->ipython>=4.0.0->ipywidgets>=7.5.0->lux-widget->lux) (0.2.2)\n",
      "Building wheels for collected packages: lux, lux-api, lux-widget\n",
      "  Building wheel for lux (setup.py): started\n",
      "  Building wheel for lux (setup.py): finished with status 'done'\n",
      "  Created wheel for lux: filename=lux-0.5.1-py3-none-any.whl size=11979 sha256=3176dee332e17897916677eaf26652ea936678f47b6a3908036d5ef2abb19b22\n",
      "  Stored in directory: c:\\users\\admin\\appdata\\local\\pip\\cache\\wheels\\eb\\1a\\ea\\63737a35e77092f9238a1b023851b69f34270754063317527d\n",
      "  Building wheel for lux-api (PEP 517): started\n",
      "  Building wheel for lux-api (PEP 517): finished with status 'done'\n",
      "  Created wheel for lux-api: filename=lux_api-0.5.1-py3-none-any.whl size=185610 sha256=5a17304ad094535f685df19793df3c1f6fe984b8db8559456b796f8316113df5\n",
      "  Stored in directory: c:\\users\\admin\\appdata\\local\\pip\\cache\\wheels\\bd\\05\\a4\\441d23d1cece85d6cd3cec43b38896e88a729e8048138825bd\n",
      "  Building wheel for lux-widget (setup.py): started\n",
      "  Building wheel for lux-widget (setup.py): finished with status 'done'\n",
      "  Created wheel for lux-widget: filename=lux_widget-0.1.11-py3-none-any.whl size=2540459 sha256=8c4e67ab2c11a1d348cc7262cffb364d5240b9ce612496e329f8bcdaa7cdc443\n",
      "  Stored in directory: c:\\users\\admin\\appdata\\local\\pip\\cache\\wheels\\03\\dd\\c3\\286c3ca89a08533a99b0eb3f6e9a4b4c23476202c5a3fd622e\n",
      "Successfully built lux lux-api lux-widget\n",
      "Installing collected packages: pycodestyle, sh, psutil, lux-widget, iso3166, altair, lux-api, lux\n",
      "  Attempting uninstall: pycodestyle\n",
      "    Found existing installation: pycodestyle 2.7.0\n",
      "    Uninstalling pycodestyle-2.7.0:\n",
      "      Successfully uninstalled pycodestyle-2.7.0\n",
      "  Attempting uninstall: psutil\n",
      "    Found existing installation: psutil 5.8.0\n",
      "    Uninstalling psutil-5.8.0:\n",
      "      Successfully uninstalled psutil-5.8.0\n",
      "Successfully installed altair-4.2.0 iso3166-2.0.2 lux-0.5.1 lux-api-0.5.1 lux-widget-0.1.11 psutil-5.9.1 pycodestyle-2.8.0 sh-1.14.2\n"
     ]
    }
   ],
   "source": [
    "pip install lux"
   ]
  },
  {
   "cell_type": "code",
   "execution_count": 3,
   "metadata": {},
   "outputs": [],
   "source": [
    "import lux\n",
    "import pandas as pd"
   ]
  },
  {
   "cell_type": "markdown",
   "metadata": {},
   "source": [
    "Lux preserves the Pandas dataframe semantics -- which means that you can apply any command from Pandas's API to the dataframes in Lux and expect the same behavior. For example, we can load the [Happy Planet Index (HPI)](http://happyplanetindex.org/) dataset via standard Pandas `read_csv` command."
   ]
  },
  {
   "cell_type": "code",
   "execution_count": 4,
   "metadata": {},
   "outputs": [],
   "source": [
    "df = pd.read_csv(\"https://github.com/lux-org/lux-datasets/blob/master/data/hpi_cleaned.csv?raw=True\")"
   ]
  },
  {
   "cell_type": "markdown",
   "metadata": {},
   "source": [
    "We can quickly get an overview of the dataframe, simply by print out the dataframe `df`. "
   ]
  },
  {
   "cell_type": "code",
   "execution_count": 5,
   "metadata": {},
   "outputs": [
    {
     "data": {
      "application/vnd.jupyter.widget-view+json": {
       "model_id": "8e415d02fa814b5db35657d0535431ff",
       "version_major": 2,
       "version_minor": 0
      },
      "text/plain": [
       "Button(description='Toggle Pandas/Lux', layout=Layout(top='5px', width='140px'), style=ButtonStyle())"
      ]
     },
     "metadata": {},
     "output_type": "display_data"
    },
    {
     "data": {
      "application/vnd.jupyter.widget-view+json": {
       "model_id": "79e0a20b14d1404d9722a1d069a31d0e",
       "version_major": 2,
       "version_minor": 0
      },
      "text/plain": [
       "Output()"
      ]
     },
     "metadata": {},
     "output_type": "display_data"
    }
   ],
   "source": [
    "df"
   ]
  },
  {
   "cell_type": "markdown",
   "metadata": {},
   "source": [
    "From the Pandas table view, we see that the dataframe contains country-level data on sustainability and well-being.\n",
    "By clicking on the Toggle button, you can now explore the data visually through Lux, you should see several tabs of visualizations recommended to you that includes scatterplots, bar charts, and maps. In Lux, we recommend visualizations that may be relevant or interesting to you across different [actions](https://lux-api.readthedocs.io/en/latest/source/getting_started/overview.html#visualizing-dataframes-with-recommendations), which are displayed as different tabs."
   ]
  },
  {
   "cell_type": "markdown",
   "metadata": {},
   "source": [
    "By inspecting the `Correlation` tab, we learn that there is a negative correlation between `AvrgLifeExpectancy` and `Inequality`. In other words, countries with higher levels of inequality also have a lower average life expectancy. We can also look at other tabs, which show the Distribution of quantitative attributes and the Occurrence of categorical attributes."
   ]
  },
  {
   "cell_type": "markdown",
   "metadata": {},
   "source": [
    "<div>\n",
    "    <img align=\"left\" src=\"https://github.com/lux-org/lux-resources/blob/master/icon/steering-wheel.png?raw=True\" width=\"30\">\n",
    "    <h1 style=\"padding-left: 40px;\">Steering analysis with intent</h1>\n",
    "</div>\n",
    "\n",
    "Let's say that we want to investigate whether any country-level characteristics explain the observed negative correlation between inequality and life expectancy. Beyond the basic recommendations, you can further specify your analysis *intent*, i.e., the data attributes and values that you are interested in visualizing. "
   ]
  },
  {
   "cell_type": "markdown",
   "metadata": {},
   "source": [
    "We can do this by specifying our analysis intent to Lux via `df.intent`:"
   ]
  },
  {
   "cell_type": "code",
   "execution_count": 6,
   "metadata": {},
   "outputs": [],
   "source": [
    "df.intent = [\"Inequality\",\"AvrgLifeExpectancy\"]"
   ]
  },
  {
   "cell_type": "markdown",
   "metadata": {},
   "source": [
    "Upon printing the dataframe again, Lux leverages the analysis intent to steer the recommendations towards what the user might be interested in."
   ]
  },
  {
   "cell_type": "code",
   "execution_count": 7,
   "metadata": {},
   "outputs": [
    {
     "data": {
      "text/plain": [
       "[<Clause  attribute: Inequality >, <Clause  attribute: AvrgLifeExpectancy >]"
      ]
     },
     "execution_count": 7,
     "metadata": {},
     "output_type": "execute_result"
    }
   ],
   "source": [
    "df.intent"
   ]
  },
  {
   "cell_type": "markdown",
   "metadata": {},
   "source": [
    "By looking at the colored scatterplots in the `Enhance` tab, we find that most G10 industrialized countries are on the upper left quadrant on the scatterplot (low inequality, high life expectancy). In the breakdown by Region, we observe that countries in Sub-Saharan Africa (yellow points) tend to be on the bottom right, with lower life expectancy and higher inequality."
   ]
  },
  {
   "cell_type": "markdown",
   "metadata": {},
   "source": [
    "ℹ️ Check out [this tutorial](https://lux-api.readthedocs.io/en/latest/source/guide/intent.html#) to learn more about how to specify intent in Lux."
   ]
  },
  {
   "cell_type": "code",
   "execution_count": 8,
   "metadata": {},
   "outputs": [],
   "source": [
    "## https://lux-api.readthedocs.io/en/latest/source/guide/intent.html"
   ]
  },
  {
   "cell_type": "markdown",
   "metadata": {},
   "source": [
    "<div>\n",
    "    <img align=\"left\" src=\"https://github.com/lux-org/lux-resources/blob/master/icon/fix.png?raw=True\" width=\"30\">\n",
    "    <h1 style=\"padding-left: 40px;\">Data Manipulation + Vis without changing a line of your Pandas code</h1>\n",
    "</div>"
   ]
  },
  {
   "cell_type": "markdown",
   "metadata": {},
   "source": [
    "Lux is designed to be tightly integrated with Pandas and can be used as-is, without modifying your existing Pandas code.  This means that you can seamlessly transition from doing data cleaning and transformation to visualizing your dataframes with no effort. The goal of this section is largely to demonstrate how Lux can help you visualize your dataframe in a realistic scenario that involves lots of complex data cleaning and transformation"
   ]
  },
  {
   "cell_type": "markdown",
   "metadata": {},
   "source": [
    "Continuing our analysis, we are now interested in how these country-level metrics related to a country's early COVID intervention strategy and response, based on the [COVID pandemic policy dataset](https://ourworldindata.org/grapher/covid-stringency-index) dataset."
   ]
  },
  {
   "cell_type": "code",
   "execution_count": 9,
   "metadata": {},
   "outputs": [],
   "source": [
    "covid = pd.read_csv(\"https://github.com/lux-org/lux-datasets/blob/master/data/covid_cleaned.csv?raw=True\")"
   ]
  },
  {
   "cell_type": "markdown",
   "metadata": {},
   "source": [
    "We now join the countries dataframe `df` with the filtered COVID dataframe: "
   ]
  },
  {
   "cell_type": "code",
   "execution_count": 10,
   "metadata": {},
   "outputs": [],
   "source": [
    "df = covid.merge(df,left_on=[\"Entity\",\"Code\"],right_on=[\"Country\",\"cca3\"])"
   ]
  },
  {
   "cell_type": "code",
   "execution_count": 11,
   "metadata": {},
   "outputs": [
    {
     "data": {
      "application/vnd.jupyter.widget-view+json": {
       "model_id": "4516b1748bde4e379a86c4ce3dddb54c",
       "version_major": 2,
       "version_minor": 0
      },
      "text/plain": [
       "Button(description='Toggle Pandas/Lux', layout=Layout(top='5px', width='140px'), style=ButtonStyle())"
      ]
     },
     "metadata": {},
     "output_type": "display_data"
    },
    {
     "data": {
      "application/vnd.jupyter.widget-view+json": {
       "model_id": "da94392b625b413c925671d82b423cb2",
       "version_major": 2,
       "version_minor": 0
      },
      "text/plain": [
       "Output()"
      ]
     },
     "metadata": {},
     "output_type": "display_data"
    }
   ],
   "source": [
    "df"
   ]
  },
  {
   "cell_type": "markdown",
   "metadata": {},
   "source": [
    "# 🤔 Some interesting findings"
   ]
  },
  {
   "cell_type": "markdown",
   "metadata": {},
   "source": [
    "With the modified dataframe, we revisit the negative correlation that we observed previously by setting the intent as average life expectancy and inequality again. The result is similar to what we saw before, with one visualization showing the breakdown by `stringency_level`."
   ]
  },
  {
   "cell_type": "code",
   "execution_count": 12,
   "metadata": {},
   "outputs": [
    {
     "data": {
      "application/vnd.jupyter.widget-view+json": {
       "model_id": "79a2651c5a1942bbbfc860e01082e538",
       "version_major": 2,
       "version_minor": 0
      },
      "text/plain": [
       "Button(description='Toggle Pandas/Lux', layout=Layout(top='5px', width='140px'), style=ButtonStyle())"
      ]
     },
     "metadata": {},
     "output_type": "display_data"
    },
    {
     "data": {
      "application/vnd.jupyter.widget-view+json": {
       "model_id": "d9d96c6459404f0a9a60b8eeef0e1c8e",
       "version_major": 2,
       "version_minor": 0
      },
      "text/plain": [
       "Output()"
      ]
     },
     "metadata": {},
     "output_type": "display_data"
    }
   ],
   "source": [
    "df.intent = [\"Inequality\",\"AvrgLifeExpectancy\"]\n",
    "df"
   ]
  },
  {
   "cell_type": "markdown",
   "metadata": {},
   "source": [
    "We see a strong separation showing how stricter countries (blue) corresponded to countries with higher life expectancy and lower levels of inequality. This visualization indicates that these countries could possibly have a more well-developed public health infrastructure that promoted the early pandemic response. However, we observe three outliers that seem to defy this trend. "
   ]
  },
  {
   "cell_type": "markdown",
   "metadata": {},
   "source": [
    "<img src=\"https://github.com/lux-org/lux-resources/blob/master/doc_img/hpi-covid-outlier.png?raw=True\" width=\"250\"></img>"
   ]
  },
  {
   "cell_type": "markdown",
   "metadata": {},
   "source": [
    "When we filter to these dataframe records, we find that these countries correspond to [Afghanistan](https://www.who.int/news-room/feature-stories/detail/afghanistan-who-mission-reviews-covid-19-response), [Pakistan](https://www.who.int/news-room/feature-stories/detail/covid-19-in-pakistan-who-fighting-tirelessly-against-the-odds), and [Rwanda](https://www.npr.org/sections/goatsandsoda/2020/07/15/889802561/a-covid-19-success-story-in-rwanda-free-testing-robot-caregivers)—countries that were praised for their early pandemic response despite limited resources."
   ]
  },
  {
   "cell_type": "code",
   "execution_count": 13,
   "metadata": {},
   "outputs": [
    {
     "data": {
      "application/vnd.jupyter.widget-view+json": {
       "model_id": "bbdfcc3b680e48868bb9be36c8aebc14",
       "version_major": 2,
       "version_minor": 0
      },
      "text/plain": [
       "Button(description='Toggle Pandas/Lux', layout=Layout(top='5px', width='140px'), style=ButtonStyle())"
      ]
     },
     "metadata": {},
     "output_type": "display_data"
    },
    {
     "data": {
      "application/vnd.jupyter.widget-view+json": {
       "model_id": "afe3b746d1454697a98cacadbda51e3b",
       "version_major": 2,
       "version_minor": 0
      },
      "text/plain": [
       "Output()"
      ]
     },
     "metadata": {},
     "output_type": "display_data"
    }
   ],
   "source": [
    "df[(df[\"Inequality\"]>0.35)&(df[\"stringency_level\"]==\"High\")]"
   ]
  },
  {
   "cell_type": "markdown",
   "metadata": {},
   "source": [
    "<div>\n",
    "    <img align=\"left\" style=\"margin-top: -10px;\" src=\"https://github.com/lux-org/lux-resources/blob/master/icon/present.png?raw=True\" width=\"50\">\n",
    "    <h1 style=\"padding-left: 55px;\">Exporting visualization insight to edit and share</h1>\n",
    "</div>"
   ]
  },
  {
   "cell_type": "markdown",
   "metadata": {},
   "source": [
    "To download this visualization insight and share with others, we can click on the visualization in the Lux view above and the button."
   ]
  },
  {
   "cell_type": "markdown",
   "metadata": {},
   "source": [
    "<img src=\"https://github.com/lux-org/lux-resources/blob/master/doc_img/hpi-covid-export.png?raw=True\" width=\"1000\"></img>"
   ]
  },
  {
   "cell_type": "code",
   "execution_count": 14,
   "metadata": {},
   "outputs": [
    {
     "data": {
      "application/vnd.jupyter.widget-view+json": {
       "model_id": "468b786c1e7c4db2b8090ef81f21fb96",
       "version_major": 2,
       "version_minor": 0
      },
      "text/plain": [
       "Button(description='Toggle Pandas/Lux', layout=Layout(top='5px', width='140px'), style=ButtonStyle())"
      ]
     },
     "metadata": {},
     "output_type": "display_data"
    },
    {
     "data": {
      "application/vnd.jupyter.widget-view+json": {
       "model_id": "044c9b0c060b4081b1765499a030f950",
       "version_major": 2,
       "version_minor": 0
      },
      "text/plain": [
       "Output()"
      ]
     },
     "metadata": {},
     "output_type": "display_data"
    }
   ],
   "source": [
    "df"
   ]
  },
  {
   "cell_type": "markdown",
   "metadata": {},
   "source": [
    "This exports the visualization from the widget to a `Vis` object. We can access the exported `Vis` object via the `exported` property and print it as code."
   ]
  },
  {
   "cell_type": "code",
   "execution_count": 15,
   "metadata": {},
   "outputs": [
    {
     "name": "stderr",
     "output_type": "stream",
     "text": [
      "C:\\Users\\admin\\AppData\\Local\\Temp\\ipykernel_17596\\3735057015.py:1: UserWarning:\n",
      "No visualization selected to export.\n",
      "See more: https://lux-api.readthedocs.io/en/latest/source/guide/FAQ.html#troubleshooting-tips\n"
     ]
    },
    {
     "data": {
      "text/plain": [
       "[]"
      ]
     },
     "execution_count": 15,
     "metadata": {},
     "output_type": "execute_result"
    }
   ],
   "source": [
    "df.exported"
   ]
  },
  {
   "cell_type": "code",
   "execution_count": 16,
   "metadata": {},
   "outputs": [
    {
     "name": "stderr",
     "output_type": "stream",
     "text": [
      "C:\\Users\\admin\\AppData\\Local\\Temp\\ipykernel_17596\\2105002850.py:1: UserWarning:\n",
      "No visualization selected to export.\n",
      "See more: https://lux-api.readthedocs.io/en/latest/source/guide/FAQ.html#troubleshooting-tips\n"
     ]
    },
    {
     "ename": "IndexError",
     "evalue": "list index out of range",
     "output_type": "error",
     "traceback": [
      "\u001b[1;31m---------------------------------------------------------------------------\u001b[0m",
      "\u001b[1;31mIndexError\u001b[0m                                Traceback (most recent call last)",
      "Input \u001b[1;32mIn [16]\u001b[0m, in \u001b[0;36m<cell line: 1>\u001b[1;34m()\u001b[0m\n\u001b[1;32m----> 1\u001b[0m \u001b[38;5;28mprint\u001b[39m(\u001b[43mdf\u001b[49m\u001b[38;5;241;43m.\u001b[39;49m\u001b[43mexported\u001b[49m\u001b[43m[\u001b[49m\u001b[38;5;241;43m0\u001b[39;49m\u001b[43m]\u001b[49m\u001b[38;5;241m.\u001b[39mto_code(\u001b[38;5;124m\"\u001b[39m\u001b[38;5;124maltair\u001b[39m\u001b[38;5;124m\"\u001b[39m))\n",
      "\u001b[1;31mIndexError\u001b[0m: list index out of range"
     ]
    }
   ],
   "source": [
    "print(df.exported[0].to_code(\"altair\"))"
   ]
  },
  {
   "cell_type": "markdown",
   "metadata": {},
   "source": [
    "We can copy-and-paste the output Altair code into a separate cell. Then let's tweak the plotting code a bit before sharing this insight with our colleagues."
   ]
  },
  {
   "cell_type": "code",
   "execution_count": null,
   "metadata": {},
   "outputs": [],
   "source": [
    "import altair as alt\n",
    "\n",
    "c = \"#e7298a\"\n",
    "chart = alt.Chart(df,title=\"Check out this cool insight!\").mark_circle().encode(\n",
    "    x=alt.X('Inequality',scale=alt.Scale(domain=(0.04, 0.51)),type='quantitative', axis=alt.Axis(title='Inequality')),\n",
    "    y=alt.Y('AvrgLifeExpectancy',scale=alt.Scale(domain=(48.9, 83.6)),type='quantitative', axis=alt.Axis(title='AvrgLifeExpectancy'))\n",
    ")\n",
    "highlight = df[(df[\"Inequality\"]>0.35)&(df[\"stringency_level\"]==\"High\")]\n",
    "\n",
    "hchart = alt.Chart(highlight).mark_point(color=c,size=50,shape=\"cross\").encode(\n",
    "    x=alt.X('Inequality',scale=alt.Scale(domain=(0.04, 0.51)),type='quantitative', axis=alt.Axis(title='Inequality')),\n",
    "    y=alt.Y('AvrgLifeExpectancy',scale=alt.Scale(domain=(48.9, 83.6)),type='quantitative', axis=alt.Axis(title='AvrgLifeExpectancy')),\n",
    ")\n",
    "\n",
    "text = alt.Chart(highlight).mark_text(color=c,dx=-35,dy=0,fontWeight=800).encode(\n",
    "    x=alt.X('Inequality',scale=alt.Scale(domain=(0.04, 0.51)),type='quantitative', axis=alt.Axis(title='Inequality')),\n",
    "    y=alt.Y('AvrgLifeExpectancy',scale=alt.Scale(domain=(48.9, 83.6)),type='quantitative', axis=alt.Axis(title='AvrgLifeExpectancy')),\n",
    "    text=alt.Text('Country')\n",
    ")\n",
    "\n",
    "chart = chart.encode(color=alt.Color('stringency_level',type='nominal'))\n",
    "chart = chart.properties(width=160,height=150)\n",
    "\n",
    "(chart + hchart + text).configure_title(color=c)\n"
   ]
  },
  {
   "cell_type": "markdown",
   "metadata": {},
   "source": [
    "ℹ️ Check out [this tutorial](https://lux-api.readthedocs.io/en/latest/source/guide/export.html) to learn more about exporting visualizations in Lux.\n"
   ]
  },
  {
   "cell_type": "markdown",
   "metadata": {},
   "source": [
    "# Try out Lux! "
   ]
  },
  {
   "cell_type": "markdown",
   "metadata": {},
   "source": [
    "To get started, Lux can be installed through [PyPI](https://pypi.org/project/lux-api/). \n",
    "\n",
    "```bash\n",
    "pip install lux-api\n",
    "``` \n",
    "\n",
    "\n",
    "To use Lux in [Jupyter notebook](https://github.com/jupyter/notebook) or [VSCode](https://code.visualstudio.com/docs/python/jupyter-support), activate the notebook extension:\n",
    "\n",
    "```bash\n",
    "jupyter nbextension install --py luxwidget\n",
    "jupyter nbextension enable --py luxwidget\n",
    "```\n",
    "\n",
    "To use Lux in [Jupyter Lab](https://github.com/jupyterlab/jupyterlab), activate the lab extension:\n",
    "\n",
    "```bash\n",
    "jupyter labextension install @jupyter-widgets/jupyterlab-manager\n",
    "jupyter labextension install luxwidget\n",
    "```\n",
    "\n",
    "If you encounter issues with the installation, please refer to [this page](https://lux-api.readthedocs.io/en/latest/source/guide/FAQ.html#troubleshooting-tips) to troubleshoot the installation."
   ]
  },
  {
   "cell_type": "markdown",
   "metadata": {},
   "source": [
    "### More information: \n",
    "\n",
    "- Follow us on [Twitter](https://twitter.com/lux_api) for discussion and updates.\n",
    "- Sign up for the early-user [mailing list](https://forms.gle/XKv3ejrshkCi3FJE6) to stay tuned for upcoming releases, updates, or user studies. \n",
    "- Visit [ReadTheDoc](https://lux-api.readthedocs.io/en/latest/) for more detailed documentation.\n",
    "- Check out our [notebook gallery](https://lux-api.readthedocs.io/en/latest/source/reference/gallery.html) for links to more demo, tutorial, and exercise on how to use Lux.\n",
    "- Report any bugs, issues, or requests through [Github Issues](https://github.com/lux-org/lux/issues). \n",
    "\n",
    "<div style=\"color:#bfbfbf\">Icons made by <a href=\"https://www.freepik.com\" title=\"Freepik\" style=\"color:#b1bbe6\">Freepik</a> from <a href=\"https://www.flaticon.com/\" title=\"Flaticon\" style=\"color:#b1bbe6\">www.flaticon.com</a></div>"
   ]
  }
 ],
 "metadata": {
  "kernelspec": {
   "display_name": "Python 3 (ipykernel)",
   "language": "python",
   "name": "python3"
  },
  "language_info": {
   "codemirror_mode": {
    "name": "ipython",
    "version": 3
   },
   "file_extension": ".py",
   "mimetype": "text/x-python",
   "name": "python",
   "nbconvert_exporter": "python",
   "pygments_lexer": "ipython3",
   "version": "3.9.12"
  }
 },
 "nbformat": 4,
 "nbformat_minor": 4
}
