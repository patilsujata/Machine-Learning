{
 "cells": [
  {
   "cell_type": "code",
   "execution_count": 1,
   "id": "fe11caef",
   "metadata": {},
   "outputs": [],
   "source": [
    "import pandas as pd"
   ]
  },
  {
   "cell_type": "code",
   "execution_count": 2,
   "id": "0edc7a3b",
   "metadata": {},
   "outputs": [],
   "source": [
    "df=pd.read_csv(r'randomforest_regression.csv')"
   ]
  },
  {
   "cell_type": "code",
   "execution_count": 3,
   "id": "319f6592",
   "metadata": {},
   "outputs": [
    {
     "data": {
      "text/plain": [
       "(439, 13)"
      ]
     },
     "execution_count": 3,
     "metadata": {},
     "output_type": "execute_result"
    }
   ],
   "source": [
    "df.shape"
   ]
  },
  {
   "cell_type": "code",
   "execution_count": 4,
   "id": "98c4d051",
   "metadata": {},
   "outputs": [
    {
     "data": {
      "text/html": [
       "<div>\n",
       "<style scoped>\n",
       "    .dataframe tbody tr th:only-of-type {\n",
       "        vertical-align: middle;\n",
       "    }\n",
       "\n",
       "    .dataframe tbody tr th {\n",
       "        vertical-align: top;\n",
       "    }\n",
       "\n",
       "    .dataframe thead th {\n",
       "        text-align: right;\n",
       "    }\n",
       "</style>\n",
       "<table border=\"1\" class=\"dataframe\">\n",
       "  <thead>\n",
       "    <tr style=\"text-align: right;\">\n",
       "      <th></th>\n",
       "      <th>address</th>\n",
       "      <th>bathrooms</th>\n",
       "      <th>bedrooms</th>\n",
       "      <th>finishedsqft</th>\n",
       "      <th>lastsolddate</th>\n",
       "      <th>lastsoldprice</th>\n",
       "      <th>latitude</th>\n",
       "      <th>longitude</th>\n",
       "      <th>neighborhood</th>\n",
       "      <th>totalrooms</th>\n",
       "      <th>usecode</th>\n",
       "      <th>yearbuilt</th>\n",
       "      <th>zipcode</th>\n",
       "    </tr>\n",
       "  </thead>\n",
       "  <tbody>\n",
       "    <tr>\n",
       "      <th>0</th>\n",
       "      <td>2243 Franklin St</td>\n",
       "      <td>2.0</td>\n",
       "      <td>2</td>\n",
       "      <td>1463</td>\n",
       "      <td>02/05/16</td>\n",
       "      <td>1950000</td>\n",
       "      <td>37.795139</td>\n",
       "      <td>-122.425309</td>\n",
       "      <td>Pacific Heights</td>\n",
       "      <td>7</td>\n",
       "      <td>Condominium</td>\n",
       "      <td>1900</td>\n",
       "      <td>94109</td>\n",
       "    </tr>\n",
       "    <tr>\n",
       "      <th>1</th>\n",
       "      <td>2002 Pacific Ave APT 4</td>\n",
       "      <td>3.5</td>\n",
       "      <td>3</td>\n",
       "      <td>3291</td>\n",
       "      <td>1/22/2016</td>\n",
       "      <td>4200000</td>\n",
       "      <td>37.794429</td>\n",
       "      <td>-122.428513</td>\n",
       "      <td>Pacific Heights</td>\n",
       "      <td>7</td>\n",
       "      <td>Condominium</td>\n",
       "      <td>1961</td>\n",
       "      <td>94109</td>\n",
       "    </tr>\n",
       "    <tr>\n",
       "      <th>2</th>\n",
       "      <td>1945 Washington St APT 411</td>\n",
       "      <td>1.0</td>\n",
       "      <td>1</td>\n",
       "      <td>653</td>\n",
       "      <td>12/16/2015</td>\n",
       "      <td>665000</td>\n",
       "      <td>37.792472</td>\n",
       "      <td>-122.425281</td>\n",
       "      <td>Pacific Heights</td>\n",
       "      <td>3</td>\n",
       "      <td>Condominium</td>\n",
       "      <td>1987</td>\n",
       "      <td>94109</td>\n",
       "    </tr>\n",
       "    <tr>\n",
       "      <th>3</th>\n",
       "      <td>1896 Pacific Ave APT 802</td>\n",
       "      <td>2.5</td>\n",
       "      <td>2</td>\n",
       "      <td>2272</td>\n",
       "      <td>12/17/2014</td>\n",
       "      <td>2735000</td>\n",
       "      <td>37.794706</td>\n",
       "      <td>-122.426347</td>\n",
       "      <td>Pacific Heights</td>\n",
       "      <td>6</td>\n",
       "      <td>Condominium</td>\n",
       "      <td>1924</td>\n",
       "      <td>94109</td>\n",
       "    </tr>\n",
       "    <tr>\n",
       "      <th>4</th>\n",
       "      <td>1840 Washington St APT 603</td>\n",
       "      <td>1.0</td>\n",
       "      <td>1</td>\n",
       "      <td>837</td>\n",
       "      <td>12/02/15</td>\n",
       "      <td>1050000</td>\n",
       "      <td>37.793212</td>\n",
       "      <td>-122.423744</td>\n",
       "      <td>Pacific Heights</td>\n",
       "      <td>3</td>\n",
       "      <td>Condominium</td>\n",
       "      <td>2012</td>\n",
       "      <td>94109</td>\n",
       "    </tr>\n",
       "  </tbody>\n",
       "</table>\n",
       "</div>"
      ],
      "text/plain": [
       "                      address  bathrooms  bedrooms  finishedsqft lastsolddate  \\\n",
       "0            2243 Franklin St        2.0         2          1463     02/05/16   \n",
       "1      2002 Pacific Ave APT 4        3.5         3          3291    1/22/2016   \n",
       "2  1945 Washington St APT 411        1.0         1           653   12/16/2015   \n",
       "3    1896 Pacific Ave APT 802        2.5         2          2272   12/17/2014   \n",
       "4  1840 Washington St APT 603        1.0         1           837     12/02/15   \n",
       "\n",
       "   lastsoldprice   latitude   longitude     neighborhood  totalrooms  \\\n",
       "0        1950000  37.795139 -122.425309  Pacific Heights           7   \n",
       "1        4200000  37.794429 -122.428513  Pacific Heights           7   \n",
       "2         665000  37.792472 -122.425281  Pacific Heights           3   \n",
       "3        2735000  37.794706 -122.426347  Pacific Heights           6   \n",
       "4        1050000  37.793212 -122.423744  Pacific Heights           3   \n",
       "\n",
       "       usecode  yearbuilt  zipcode  \n",
       "0  Condominium       1900    94109  \n",
       "1  Condominium       1961    94109  \n",
       "2  Condominium       1987    94109  \n",
       "3  Condominium       1924    94109  \n",
       "4  Condominium       2012    94109  "
      ]
     },
     "execution_count": 4,
     "metadata": {},
     "output_type": "execute_result"
    }
   ],
   "source": [
    "df.head()"
   ]
  },
  {
   "cell_type": "code",
   "execution_count": 21,
   "id": "d0e2c5ff",
   "metadata": {},
   "outputs": [
    {
     "name": "stdout",
     "output_type": "stream",
     "text": [
      "<class 'pandas.core.frame.DataFrame'>\n",
      "RangeIndex: 439 entries, 0 to 438\n",
      "Data columns (total 7 columns):\n",
      " #   Column                Non-Null Count  Dtype  \n",
      "---  ------                --------------  -----  \n",
      " 0   bathrooms             439 non-null    float64\n",
      " 1   bedrooms              439 non-null    int64  \n",
      " 2   finishedsqft          439 non-null    int64  \n",
      " 3   totalrooms            439 non-null    int64  \n",
      " 4   usecode_Condominium   439 non-null    uint8  \n",
      " 5   usecode_SingleFamily  439 non-null    uint8  \n",
      " 6   lastsoldprice         439 non-null    int64  \n",
      "dtypes: float64(1), int64(4), uint8(2)\n",
      "memory usage: 18.1 KB\n"
     ]
    }
   ],
   "source": [
    "df.info()"
   ]
  },
  {
   "cell_type": "code",
   "execution_count": 6,
   "id": "57c598ad",
   "metadata": {},
   "outputs": [
    {
     "data": {
      "text/plain": [
       "Index(['address', 'bathrooms', 'bedrooms', 'finishedsqft', 'lastsolddate',\n",
       "       'lastsoldprice', 'latitude', 'longitude', 'neighborhood', 'totalrooms',\n",
       "       'usecode', 'yearbuilt', 'zipcode'],\n",
       "      dtype='object')"
      ]
     },
     "execution_count": 6,
     "metadata": {},
     "output_type": "execute_result"
    }
   ],
   "source": [
    "df.columns"
   ]
  },
  {
   "cell_type": "code",
   "execution_count": 7,
   "id": "c85be674",
   "metadata": {},
   "outputs": [
    {
     "data": {
      "text/plain": [
       "lastsoldprice    1.000000\n",
       "finishedsqft     0.840864\n",
       "bathrooms        0.768179\n",
       "totalrooms       0.670726\n",
       "bedrooms         0.606579\n",
       "zipcode          0.296032\n",
       "latitude         0.126480\n",
       "yearbuilt       -0.214365\n",
       "longitude       -0.309462\n",
       "Name: lastsoldprice, dtype: float64"
      ]
     },
     "execution_count": 7,
     "metadata": {},
     "output_type": "execute_result"
    }
   ],
   "source": [
    "corr_matrix = df.corr()\n",
    "corr_matrix[\"lastsoldprice\"].sort_values(ascending=False)"
   ]
  },
  {
   "cell_type": "code",
   "execution_count": 8,
   "id": "655110c0",
   "metadata": {},
   "outputs": [
    {
     "data": {
      "text/html": [
       "<div>\n",
       "<style scoped>\n",
       "    .dataframe tbody tr th:only-of-type {\n",
       "        vertical-align: middle;\n",
       "    }\n",
       "\n",
       "    .dataframe tbody tr th {\n",
       "        vertical-align: top;\n",
       "    }\n",
       "\n",
       "    .dataframe thead th {\n",
       "        text-align: right;\n",
       "    }\n",
       "</style>\n",
       "<table border=\"1\" class=\"dataframe\">\n",
       "  <thead>\n",
       "    <tr style=\"text-align: right;\">\n",
       "      <th></th>\n",
       "      <th>address</th>\n",
       "      <th>bathrooms</th>\n",
       "      <th>bedrooms</th>\n",
       "      <th>finishedsqft</th>\n",
       "      <th>lastsolddate</th>\n",
       "      <th>lastsoldprice</th>\n",
       "      <th>latitude</th>\n",
       "      <th>longitude</th>\n",
       "      <th>neighborhood</th>\n",
       "      <th>totalrooms</th>\n",
       "      <th>yearbuilt</th>\n",
       "      <th>zipcode</th>\n",
       "      <th>usecode_Condominium</th>\n",
       "      <th>usecode_Cooperative</th>\n",
       "      <th>usecode_Duplex</th>\n",
       "      <th>usecode_MultiFamily2To4</th>\n",
       "      <th>usecode_SingleFamily</th>\n",
       "      <th>usecode_Townhouse</th>\n",
       "    </tr>\n",
       "  </thead>\n",
       "  <tbody>\n",
       "    <tr>\n",
       "      <th>0</th>\n",
       "      <td>2243 Franklin St</td>\n",
       "      <td>2.0</td>\n",
       "      <td>2</td>\n",
       "      <td>1463</td>\n",
       "      <td>02/05/16</td>\n",
       "      <td>1950000</td>\n",
       "      <td>37.795139</td>\n",
       "      <td>-122.425309</td>\n",
       "      <td>Pacific Heights</td>\n",
       "      <td>7</td>\n",
       "      <td>1900</td>\n",
       "      <td>94109</td>\n",
       "      <td>1</td>\n",
       "      <td>0</td>\n",
       "      <td>0</td>\n",
       "      <td>0</td>\n",
       "      <td>0</td>\n",
       "      <td>0</td>\n",
       "    </tr>\n",
       "    <tr>\n",
       "      <th>1</th>\n",
       "      <td>2002 Pacific Ave APT 4</td>\n",
       "      <td>3.5</td>\n",
       "      <td>3</td>\n",
       "      <td>3291</td>\n",
       "      <td>1/22/2016</td>\n",
       "      <td>4200000</td>\n",
       "      <td>37.794429</td>\n",
       "      <td>-122.428513</td>\n",
       "      <td>Pacific Heights</td>\n",
       "      <td>7</td>\n",
       "      <td>1961</td>\n",
       "      <td>94109</td>\n",
       "      <td>1</td>\n",
       "      <td>0</td>\n",
       "      <td>0</td>\n",
       "      <td>0</td>\n",
       "      <td>0</td>\n",
       "      <td>0</td>\n",
       "    </tr>\n",
       "    <tr>\n",
       "      <th>2</th>\n",
       "      <td>1945 Washington St APT 411</td>\n",
       "      <td>1.0</td>\n",
       "      <td>1</td>\n",
       "      <td>653</td>\n",
       "      <td>12/16/2015</td>\n",
       "      <td>665000</td>\n",
       "      <td>37.792472</td>\n",
       "      <td>-122.425281</td>\n",
       "      <td>Pacific Heights</td>\n",
       "      <td>3</td>\n",
       "      <td>1987</td>\n",
       "      <td>94109</td>\n",
       "      <td>1</td>\n",
       "      <td>0</td>\n",
       "      <td>0</td>\n",
       "      <td>0</td>\n",
       "      <td>0</td>\n",
       "      <td>0</td>\n",
       "    </tr>\n",
       "    <tr>\n",
       "      <th>3</th>\n",
       "      <td>1896 Pacific Ave APT 802</td>\n",
       "      <td>2.5</td>\n",
       "      <td>2</td>\n",
       "      <td>2272</td>\n",
       "      <td>12/17/2014</td>\n",
       "      <td>2735000</td>\n",
       "      <td>37.794706</td>\n",
       "      <td>-122.426347</td>\n",
       "      <td>Pacific Heights</td>\n",
       "      <td>6</td>\n",
       "      <td>1924</td>\n",
       "      <td>94109</td>\n",
       "      <td>1</td>\n",
       "      <td>0</td>\n",
       "      <td>0</td>\n",
       "      <td>0</td>\n",
       "      <td>0</td>\n",
       "      <td>0</td>\n",
       "    </tr>\n",
       "    <tr>\n",
       "      <th>4</th>\n",
       "      <td>1840 Washington St APT 603</td>\n",
       "      <td>1.0</td>\n",
       "      <td>1</td>\n",
       "      <td>837</td>\n",
       "      <td>12/02/15</td>\n",
       "      <td>1050000</td>\n",
       "      <td>37.793212</td>\n",
       "      <td>-122.423744</td>\n",
       "      <td>Pacific Heights</td>\n",
       "      <td>3</td>\n",
       "      <td>2012</td>\n",
       "      <td>94109</td>\n",
       "      <td>1</td>\n",
       "      <td>0</td>\n",
       "      <td>0</td>\n",
       "      <td>0</td>\n",
       "      <td>0</td>\n",
       "      <td>0</td>\n",
       "    </tr>\n",
       "  </tbody>\n",
       "</table>\n",
       "</div>"
      ],
      "text/plain": [
       "                      address  bathrooms  bedrooms  finishedsqft lastsolddate  \\\n",
       "0            2243 Franklin St        2.0         2          1463     02/05/16   \n",
       "1      2002 Pacific Ave APT 4        3.5         3          3291    1/22/2016   \n",
       "2  1945 Washington St APT 411        1.0         1           653   12/16/2015   \n",
       "3    1896 Pacific Ave APT 802        2.5         2          2272   12/17/2014   \n",
       "4  1840 Washington St APT 603        1.0         1           837     12/02/15   \n",
       "\n",
       "   lastsoldprice   latitude   longitude     neighborhood  totalrooms  \\\n",
       "0        1950000  37.795139 -122.425309  Pacific Heights           7   \n",
       "1        4200000  37.794429 -122.428513  Pacific Heights           7   \n",
       "2         665000  37.792472 -122.425281  Pacific Heights           3   \n",
       "3        2735000  37.794706 -122.426347  Pacific Heights           6   \n",
       "4        1050000  37.793212 -122.423744  Pacific Heights           3   \n",
       "\n",
       "   yearbuilt  zipcode  usecode_Condominium  usecode_Cooperative  \\\n",
       "0       1900    94109                    1                    0   \n",
       "1       1961    94109                    1                    0   \n",
       "2       1987    94109                    1                    0   \n",
       "3       1924    94109                    1                    0   \n",
       "4       2012    94109                    1                    0   \n",
       "\n",
       "   usecode_Duplex  usecode_MultiFamily2To4  usecode_SingleFamily  \\\n",
       "0               0                        0                     0   \n",
       "1               0                        0                     0   \n",
       "2               0                        0                     0   \n",
       "3               0                        0                     0   \n",
       "4               0                        0                     0   \n",
       "\n",
       "   usecode_Townhouse  \n",
       "0                  0  \n",
       "1                  0  \n",
       "2                  0  \n",
       "3                  0  \n",
       "4                  0  "
      ]
     },
     "execution_count": 8,
     "metadata": {},
     "output_type": "execute_result"
    }
   ],
   "source": [
    "df = pd.get_dummies(df, columns=['usecode'])\n",
    "df.head()"
   ]
  },
  {
   "cell_type": "code",
   "execution_count": 9,
   "id": "73a9d8c5",
   "metadata": {},
   "outputs": [
    {
     "data": {
      "text/plain": [
       "lastsoldprice              1.000000\n",
       "finishedsqft               0.840864\n",
       "bathrooms                  0.768179\n",
       "totalrooms                 0.670726\n",
       "usecode_SingleFamily       0.638482\n",
       "bedrooms                   0.606579\n",
       "zipcode                    0.296032\n",
       "latitude                   0.126480\n",
       "usecode_Duplex             0.006292\n",
       "usecode_MultiFamily2To4   -0.019009\n",
       "usecode_Townhouse         -0.025467\n",
       "usecode_Cooperative       -0.025556\n",
       "yearbuilt                 -0.214365\n",
       "longitude                 -0.309462\n",
       "usecode_Condominium       -0.598575\n",
       "Name: lastsoldprice, dtype: float64"
      ]
     },
     "execution_count": 9,
     "metadata": {},
     "output_type": "execute_result"
    }
   ],
   "source": [
    "corr_matrix = df.corr()\n",
    "corr_matrix[\"lastsoldprice\"].sort_values(ascending=False)"
   ]
  },
  {
   "cell_type": "code",
   "execution_count": 10,
   "id": "11a6a408",
   "metadata": {},
   "outputs": [
    {
     "data": {
      "text/html": [
       "<div>\n",
       "<style scoped>\n",
       "    .dataframe tbody tr th:only-of-type {\n",
       "        vertical-align: middle;\n",
       "    }\n",
       "\n",
       "    .dataframe tbody tr th {\n",
       "        vertical-align: top;\n",
       "    }\n",
       "\n",
       "    .dataframe thead th {\n",
       "        text-align: right;\n",
       "    }\n",
       "</style>\n",
       "<table border=\"1\" class=\"dataframe\">\n",
       "  <thead>\n",
       "    <tr style=\"text-align: right;\">\n",
       "      <th></th>\n",
       "      <th>bathrooms</th>\n",
       "      <th>bedrooms</th>\n",
       "      <th>finishedsqft</th>\n",
       "      <th>totalrooms</th>\n",
       "      <th>usecode_Condominium</th>\n",
       "      <th>usecode_SingleFamily</th>\n",
       "      <th>lastsoldprice</th>\n",
       "    </tr>\n",
       "  </thead>\n",
       "  <tbody>\n",
       "    <tr>\n",
       "      <th>0</th>\n",
       "      <td>2.0</td>\n",
       "      <td>2</td>\n",
       "      <td>1463</td>\n",
       "      <td>7</td>\n",
       "      <td>1</td>\n",
       "      <td>0</td>\n",
       "      <td>1950000</td>\n",
       "    </tr>\n",
       "    <tr>\n",
       "      <th>1</th>\n",
       "      <td>3.5</td>\n",
       "      <td>3</td>\n",
       "      <td>3291</td>\n",
       "      <td>7</td>\n",
       "      <td>1</td>\n",
       "      <td>0</td>\n",
       "      <td>4200000</td>\n",
       "    </tr>\n",
       "    <tr>\n",
       "      <th>2</th>\n",
       "      <td>1.0</td>\n",
       "      <td>1</td>\n",
       "      <td>653</td>\n",
       "      <td>3</td>\n",
       "      <td>1</td>\n",
       "      <td>0</td>\n",
       "      <td>665000</td>\n",
       "    </tr>\n",
       "    <tr>\n",
       "      <th>3</th>\n",
       "      <td>2.5</td>\n",
       "      <td>2</td>\n",
       "      <td>2272</td>\n",
       "      <td>6</td>\n",
       "      <td>1</td>\n",
       "      <td>0</td>\n",
       "      <td>2735000</td>\n",
       "    </tr>\n",
       "    <tr>\n",
       "      <th>4</th>\n",
       "      <td>1.0</td>\n",
       "      <td>1</td>\n",
       "      <td>837</td>\n",
       "      <td>3</td>\n",
       "      <td>1</td>\n",
       "      <td>0</td>\n",
       "      <td>1050000</td>\n",
       "    </tr>\n",
       "  </tbody>\n",
       "</table>\n",
       "</div>"
      ],
      "text/plain": [
       "   bathrooms  bedrooms  finishedsqft  totalrooms  usecode_Condominium  \\\n",
       "0        2.0         2          1463           7                    1   \n",
       "1        3.5         3          3291           7                    1   \n",
       "2        1.0         1           653           3                    1   \n",
       "3        2.5         2          2272           6                    1   \n",
       "4        1.0         1           837           3                    1   \n",
       "\n",
       "   usecode_SingleFamily  lastsoldprice  \n",
       "0                     0        1950000  \n",
       "1                     0        4200000  \n",
       "2                     0         665000  \n",
       "3                     0        2735000  \n",
       "4                     0        1050000  "
      ]
     },
     "execution_count": 10,
     "metadata": {},
     "output_type": "execute_result"
    }
   ],
   "source": [
    "# Filter the dataset down to the most significant columns\n",
    "df = df[['bathrooms', 'bedrooms', 'finishedsqft', 'totalrooms', 'usecode_Condominium', 'usecode_SingleFamily', 'lastsoldprice']]\n",
    "df.head()"
   ]
  },
  {
   "cell_type": "code",
   "execution_count": 12,
   "id": "13078d4e",
   "metadata": {},
   "outputs": [],
   "source": [
    "from sklearn.ensemble import RandomForestRegressor\n",
    "from sklearn.model_selection import train_test_split\n",
    "\n",
    "x = df.drop('lastsoldprice', axis=1)\n",
    "y = df['lastsoldprice']\n",
    "x_train, x_test, y_train, y_test = train_test_split(x, y, test_size=0.2, random_state=5)\n",
    "\n"
   ]
  },
  {
   "cell_type": "code",
   "execution_count": 13,
   "id": "d7a66ff0",
   "metadata": {},
   "outputs": [
    {
     "data": {
      "text/plain": [
       "(351, 6)"
      ]
     },
     "execution_count": 13,
     "metadata": {},
     "output_type": "execute_result"
    }
   ],
   "source": [
    "x_train.shape"
   ]
  },
  {
   "cell_type": "code",
   "execution_count": 14,
   "id": "093e9a6a",
   "metadata": {},
   "outputs": [
    {
     "data": {
      "text/plain": [
       "(88, 6)"
      ]
     },
     "execution_count": 14,
     "metadata": {},
     "output_type": "execute_result"
    }
   ],
   "source": [
    "x_test.shape"
   ]
  },
  {
   "cell_type": "code",
   "execution_count": 15,
   "id": "853ff71f",
   "metadata": {},
   "outputs": [
    {
     "data": {
      "text/plain": [
       "(351,)"
      ]
     },
     "execution_count": 15,
     "metadata": {},
     "output_type": "execute_result"
    }
   ],
   "source": [
    "y_train.shape"
   ]
  },
  {
   "cell_type": "code",
   "execution_count": 16,
   "id": "f60a4008",
   "metadata": {},
   "outputs": [
    {
     "data": {
      "text/plain": [
       "(88,)"
      ]
     },
     "execution_count": 16,
     "metadata": {},
     "output_type": "execute_result"
    }
   ],
   "source": [
    "y_test.shape"
   ]
  },
  {
   "cell_type": "code",
   "execution_count": 17,
   "id": "c205a64c",
   "metadata": {},
   "outputs": [
    {
     "data": {
      "text/html": [
       "<style>#sk-container-id-1 {color: black;background-color: white;}#sk-container-id-1 pre{padding: 0;}#sk-container-id-1 div.sk-toggleable {background-color: white;}#sk-container-id-1 label.sk-toggleable__label {cursor: pointer;display: block;width: 100%;margin-bottom: 0;padding: 0.3em;box-sizing: border-box;text-align: center;}#sk-container-id-1 label.sk-toggleable__label-arrow:before {content: \"▸\";float: left;margin-right: 0.25em;color: #696969;}#sk-container-id-1 label.sk-toggleable__label-arrow:hover:before {color: black;}#sk-container-id-1 div.sk-estimator:hover label.sk-toggleable__label-arrow:before {color: black;}#sk-container-id-1 div.sk-toggleable__content {max-height: 0;max-width: 0;overflow: hidden;text-align: left;background-color: #f0f8ff;}#sk-container-id-1 div.sk-toggleable__content pre {margin: 0.2em;color: black;border-radius: 0.25em;background-color: #f0f8ff;}#sk-container-id-1 input.sk-toggleable__control:checked~div.sk-toggleable__content {max-height: 200px;max-width: 100%;overflow: auto;}#sk-container-id-1 input.sk-toggleable__control:checked~label.sk-toggleable__label-arrow:before {content: \"▾\";}#sk-container-id-1 div.sk-estimator input.sk-toggleable__control:checked~label.sk-toggleable__label {background-color: #d4ebff;}#sk-container-id-1 div.sk-label input.sk-toggleable__control:checked~label.sk-toggleable__label {background-color: #d4ebff;}#sk-container-id-1 input.sk-hidden--visually {border: 0;clip: rect(1px 1px 1px 1px);clip: rect(1px, 1px, 1px, 1px);height: 1px;margin: -1px;overflow: hidden;padding: 0;position: absolute;width: 1px;}#sk-container-id-1 div.sk-estimator {font-family: monospace;background-color: #f0f8ff;border: 1px dotted black;border-radius: 0.25em;box-sizing: border-box;margin-bottom: 0.5em;}#sk-container-id-1 div.sk-estimator:hover {background-color: #d4ebff;}#sk-container-id-1 div.sk-parallel-item::after {content: \"\";width: 100%;border-bottom: 1px solid gray;flex-grow: 1;}#sk-container-id-1 div.sk-label:hover label.sk-toggleable__label {background-color: #d4ebff;}#sk-container-id-1 div.sk-serial::before {content: \"\";position: absolute;border-left: 1px solid gray;box-sizing: border-box;top: 0;bottom: 0;left: 50%;z-index: 0;}#sk-container-id-1 div.sk-serial {display: flex;flex-direction: column;align-items: center;background-color: white;padding-right: 0.2em;padding-left: 0.2em;position: relative;}#sk-container-id-1 div.sk-item {position: relative;z-index: 1;}#sk-container-id-1 div.sk-parallel {display: flex;align-items: stretch;justify-content: center;background-color: white;position: relative;}#sk-container-id-1 div.sk-item::before, #sk-container-id-1 div.sk-parallel-item::before {content: \"\";position: absolute;border-left: 1px solid gray;box-sizing: border-box;top: 0;bottom: 0;left: 50%;z-index: -1;}#sk-container-id-1 div.sk-parallel-item {display: flex;flex-direction: column;z-index: 1;position: relative;background-color: white;}#sk-container-id-1 div.sk-parallel-item:first-child::after {align-self: flex-end;width: 50%;}#sk-container-id-1 div.sk-parallel-item:last-child::after {align-self: flex-start;width: 50%;}#sk-container-id-1 div.sk-parallel-item:only-child::after {width: 0;}#sk-container-id-1 div.sk-dashed-wrapped {border: 1px dashed gray;margin: 0 0.4em 0.5em 0.4em;box-sizing: border-box;padding-bottom: 0.4em;background-color: white;}#sk-container-id-1 div.sk-label label {font-family: monospace;font-weight: bold;display: inline-block;line-height: 1.2em;}#sk-container-id-1 div.sk-label-container {text-align: center;}#sk-container-id-1 div.sk-container {/* jupyter's `normalize.less` sets `[hidden] { display: none; }` but bootstrap.min.css set `[hidden] { display: none !important; }` so we also need the `!important` here to be able to override the default hidden behavior on the sphinx rendered scikit-learn.org. See: https://github.com/scikit-learn/scikit-learn/issues/21755 */display: inline-block !important;position: relative;}#sk-container-id-1 div.sk-text-repr-fallback {display: none;}</style><div id=\"sk-container-id-1\" class=\"sk-top-container\"><div class=\"sk-text-repr-fallback\"><pre>RandomForestRegressor(random_state=15)</pre><b>In a Jupyter environment, please rerun this cell to show the HTML representation or trust the notebook. <br />On GitHub, the HTML representation is unable to render, please try loading this page with nbviewer.org.</b></div><div class=\"sk-container\" hidden><div class=\"sk-item\"><div class=\"sk-estimator sk-toggleable\"><input class=\"sk-toggleable__control sk-hidden--visually\" id=\"sk-estimator-id-1\" type=\"checkbox\" checked><label for=\"sk-estimator-id-1\" class=\"sk-toggleable__label sk-toggleable__label-arrow\">RandomForestRegressor</label><div class=\"sk-toggleable__content\"><pre>RandomForestRegressor(random_state=15)</pre></div></div></div></div></div>"
      ],
      "text/plain": [
       "RandomForestRegressor(random_state=15)"
      ]
     },
     "execution_count": 17,
     "metadata": {},
     "output_type": "execute_result"
    }
   ],
   "source": [
    "model = RandomForestRegressor(random_state=15)\n",
    "model.fit(x_train, y_train)"
   ]
  },
  {
   "cell_type": "code",
   "execution_count": 18,
   "id": "f4aee43a",
   "metadata": {},
   "outputs": [
    {
     "data": {
      "text/plain": [
       "0.6270854549195427"
      ]
     },
     "execution_count": 18,
     "metadata": {},
     "output_type": "execute_result"
    }
   ],
   "source": [
    "\n",
    "model.score(x_test, y_test)"
   ]
  },
  {
   "cell_type": "code",
   "execution_count": 19,
   "id": "67d4909d",
   "metadata": {},
   "outputs": [
    {
     "data": {
      "text/plain": [
       "0.9527306082375091"
      ]
     },
     "execution_count": 19,
     "metadata": {},
     "output_type": "execute_result"
    }
   ],
   "source": [
    "model.score(x_train,y_train)"
   ]
  },
  {
   "cell_type": "code",
   "execution_count": null,
   "id": "4b0454c6",
   "metadata": {},
   "outputs": [],
   "source": []
  }
 ],
 "metadata": {
  "kernelspec": {
   "display_name": "Python 3 (ipykernel)",
   "language": "python",
   "name": "python3"
  },
  "language_info": {
   "codemirror_mode": {
    "name": "ipython",
    "version": 3
   },
   "file_extension": ".py",
   "mimetype": "text/x-python",
   "name": "python",
   "nbconvert_exporter": "python",
   "pygments_lexer": "ipython3",
   "version": "3.9.12"
  }
 },
 "nbformat": 4,
 "nbformat_minor": 5
}
